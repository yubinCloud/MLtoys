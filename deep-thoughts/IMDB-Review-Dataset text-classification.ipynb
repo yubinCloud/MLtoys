{
 "cells": [
  {
   "attachments": {},
   "cell_type": "markdown",
   "metadata": {},
   "source": [
    "## 文本分类项目模型与训练代码讲解\n",
    "\n",
    "// unfinished\n",
    "\n",
    "使用 PyTorch 完成一个文本分类的项目。\n",
    "\n",
    "数据集采用 IMDB-Review Dataset，数据集位置：[Kaggle](https://www.kaggle.com/datasets/lakshmi25npathi/imdb-dataset-of-50k-movie-reviews)。这是一个二分类任务。\n",
    "\n",
    "+ 视频：[32、基于PyTorch的文本分类项目模型与训练代码讲解](https://www.bilibili.com/video/BV1eD4y1F7o4/)"
   ]
  },
  {
   "cell_type": "code",
   "execution_count": 7,
   "metadata": {},
   "outputs": [],
   "source": [
    "import torch\n",
    "import torch.nn as nn\n",
    "import torch.nn.functional as F\n",
    "from loguru import logger\n",
    "from pathlib import Path"
   ]
  },
  {
   "attachments": {},
   "cell_type": "markdown",
   "metadata": {},
   "source": [
    "## 1. 编写 GCN + DNN 模型代码\n",
    "\n",
    "+ 这里的 GCN 指的是 Gated Convolution Network，并对其进行了简化。"
   ]
  },
  {
   "cell_type": "code",
   "execution_count": 2,
   "metadata": {},
   "outputs": [],
   "source": [
    "class GCNN(nn.Module):\n",
    "    \n",
    "    def __init__(\n",
    "        self,\n",
    "        vocab_size: int,\n",
    "        embed_dim: int = 64,\n",
    "        num_class: int = 2\n",
    "    ) -> None:\n",
    "        super().__init__()\n",
    "        \n",
    "        self.embedding_table = nn.Embedding(vocab_size, embed_dim)\n",
    "        nn.init.xavier_uniform_(self.embedding_table)\n",
    "        \n",
    "        self.conv_A_1 = nn.Conv1d(embed_dim, 64, 15, stride=7)\n",
    "        self.conv_B_1 = nn.Conv1d(embed_dim, 64, 15, stride=7)\n",
    "        \n",
    "        self.conv_A_2 = nn.Conv1d(64, 64, 15, stride=7)\n",
    "        self.conv_B_2 = nn.Conv1d(64, 64, 15, stride=7)\n",
    "        \n",
    "        self.output_linear1 = nn.Linear(64, 128)\n",
    "        self.output_linear2 = nn.Linear(128, num_class)\n",
    "    \n",
    "    def forward(self, word_index: torch.Tensor):\n",
    "        \"\"\"\n",
    "        定义 GCN 网络的算子操作流程，基于句子单词 ID 输入得到分类 logits 输出\n",
    "        :param: word_index: [bs, max_seq_len] \n",
    "        \"\"\"\n",
    "        # 1. word_index -> word_embedding\n",
    "        word_embedding = self.embedding_table(word_index)  # [bs, max_seq_len, embedding_dim]\n",
    "        \n",
    "        # 2. 编写第一层 1D 门卷积模块\n",
    "        word_embedding.transpose_(1, 2)  # [bs, embedding_dim, max_seq_len]\n",
    "        A = self.conv_A_1(word_embedding)\n",
    "        B = self.conv_B_1(word_embedding)\n",
    "        H = A * torch.sigmoid(B)  # [bs, 64, max_seq_len]\n",
    "        \n",
    "        A = self.conv_A_2(H)\n",
    "        B = self.conv_B_2(H)\n",
    "        H = A * torch.sigmoid(B)  # [bs, 64, max_seq_len]\n",
    "        \n",
    "        # 3. 池化并经过全连接层\n",
    "        pool_output = torch.mean(H, dim=-1)  # 平均池化，[bs, 64]\n",
    "        logits = self.output_linear1(\n",
    "            self.output_linear2(pool_output)\n",
    "        )  # [bs, 2]\n",
    "        return logits"
   ]
  },
  {
   "attachments": {},
   "cell_type": "markdown",
   "metadata": {},
   "source": [
    "PyTorch 官网有一个更简单的模型，这里对其进行展示，特别简单...\n",
    "\n",
    "注意这个模型用了 `nn.EmbeddingBag`，当输入 [bs, seq_len] 后，得到的仍然是 [bs, seq_len]，它对所有的 token 的 embedding 进行了一个平均。"
   ]
  },
  {
   "cell_type": "code",
   "execution_count": 3,
   "metadata": {},
   "outputs": [],
   "source": [
    "class TextClassificationModel(nn.Module):\n",
    "    \"\"\"\n",
    "    简单版的 EmbeddingBag + DNN 模型\n",
    "    了解一下就好\n",
    "    \"\"\"\n",
    "    def __init__(\n",
    "        self,\n",
    "        vocab_size: int,\n",
    "        embed_dim: int = 64,\n",
    "        num_class: int = 2\n",
    "    ) -> None:\n",
    "        super().__init__()\n",
    "        \n",
    "        self.embedding = nn.EmbeddingBag(vocab_size, embed_dim, sparse=False)\n",
    "        self.fc = nn.Linear(embed_dim, num_class)\n",
    "        \n",
    "    def forward(self, token_ids: torch.Tensor):\n",
    "        embedding = self.embedding(token_ids)  # [bs, embedding_dim]\n",
    "        return self.fc(embedding)"
   ]
  },
  {
   "attachments": {},
   "cell_type": "markdown",
   "metadata": {},
   "source": [
    "## 2. 构建 IMDB Dataloader"
   ]
  },
  {
   "cell_type": "code",
   "execution_count": 5,
   "metadata": {},
   "outputs": [],
   "source": [
    "from torchtext.datasets import IMDB\n",
    "from torchtext.datasets.imdb import NUM_LINES\n",
    "from torchtext.data import get_tokenizer\n",
    "from torchtext.vocab import build_vocab_from_iterator\n",
    "from torchtext.data.functional import to_map_style_dataset"
   ]
  },
  {
   "cell_type": "code",
   "execution_count": 13,
   "metadata": {},
   "outputs": [],
   "source": [
    "conf = {\n",
    "    'dataset_path': '/root/yubin/dataset/kaggle/IMDB-Dataset-of-50K-Movie-Reviews'\n",
    "}"
   ]
  },
  {
   "cell_type": "code",
   "execution_count": 16,
   "metadata": {},
   "outputs": [
    {
     "ename": "NameError",
     "evalue": "name 'IterableWrapper' is not defined",
     "output_type": "error",
     "traceback": [
      "\u001b[0;31m---------------------------------------------------------------------------\u001b[0m",
      "\u001b[0;31mNameError\u001b[0m                                 Traceback (most recent call last)",
      "Cell \u001b[0;32mIn [16], line 1\u001b[0m\n\u001b[0;32m----> 1\u001b[0m train_data_iter \u001b[39m=\u001b[39m IMDB(split\u001b[39m=\u001b[39;49m\u001b[39m'\u001b[39;49m\u001b[39mtrain\u001b[39;49m\u001b[39m'\u001b[39;49m)\n",
      "File \u001b[0;32m~/miniconda3/envs/LHY/lib/python3.9/site-packages/torchtext/data/datasets_utils.py:193\u001b[0m, in \u001b[0;36m_create_dataset_directory.<locals>.decorator.<locals>.wrapper\u001b[0;34m(root, *args, **kwargs)\u001b[0m\n\u001b[1;32m    191\u001b[0m \u001b[39mif\u001b[39;00m \u001b[39mnot\u001b[39;00m os\u001b[39m.\u001b[39mpath\u001b[39m.\u001b[39mexists(new_root):\n\u001b[1;32m    192\u001b[0m     os\u001b[39m.\u001b[39mmakedirs(new_root, exist_ok\u001b[39m=\u001b[39m\u001b[39mTrue\u001b[39;00m)\n\u001b[0;32m--> 193\u001b[0m \u001b[39mreturn\u001b[39;00m fn(root\u001b[39m=\u001b[39;49mnew_root, \u001b[39m*\u001b[39;49margs, \u001b[39m*\u001b[39;49m\u001b[39m*\u001b[39;49mkwargs)\n",
      "File \u001b[0;32m~/miniconda3/envs/LHY/lib/python3.9/site-packages/torchtext/data/datasets_utils.py:155\u001b[0m, in \u001b[0;36m_wrap_split_argument_with_fn.<locals>.new_fn\u001b[0;34m(root, split, **kwargs)\u001b[0m\n\u001b[1;32m    153\u001b[0m result \u001b[39m=\u001b[39m []\n\u001b[1;32m    154\u001b[0m \u001b[39mfor\u001b[39;00m item \u001b[39min\u001b[39;00m _check_default_set(split, splits, fn\u001b[39m.\u001b[39m\u001b[39m__name__\u001b[39m):\n\u001b[0;32m--> 155\u001b[0m     result\u001b[39m.\u001b[39mappend(fn(root, item, \u001b[39m*\u001b[39;49m\u001b[39m*\u001b[39;49mkwargs))\n\u001b[1;32m    156\u001b[0m \u001b[39mreturn\u001b[39;00m _wrap_datasets(\u001b[39mtuple\u001b[39m(result), split)\n",
      "File \u001b[0;32m~/miniconda3/envs/LHY/lib/python3.9/site-packages/torchtext/datasets/imdb.py:95\u001b[0m, in \u001b[0;36mIMDB\u001b[0;34m(root, split)\u001b[0m\n\u001b[1;32m     90\u001b[0m \u001b[39mif\u001b[39;00m \u001b[39mnot\u001b[39;00m is_module_available(\u001b[39m\"\u001b[39m\u001b[39mtorchdata\u001b[39m\u001b[39m\"\u001b[39m):\n\u001b[1;32m     91\u001b[0m     \u001b[39mraise\u001b[39;00m \u001b[39mModuleNotFoundError\u001b[39;00m(\n\u001b[1;32m     92\u001b[0m         \u001b[39m\"\u001b[39m\u001b[39mPackage `torchdata` not found. Please install following instructions at https://github.com/pytorch/data\u001b[39m\u001b[39m\"\u001b[39m\n\u001b[1;32m     93\u001b[0m     )\n\u001b[0;32m---> 95\u001b[0m url_dp \u001b[39m=\u001b[39m IterableWrapper([URL])\n\u001b[1;32m     97\u001b[0m cache_compressed_dp \u001b[39m=\u001b[39m url_dp\u001b[39m.\u001b[39mon_disk_cache(\n\u001b[1;32m     98\u001b[0m     filepath_fn\u001b[39m=\u001b[39mpartial(_filepath_fn, root),\n\u001b[1;32m     99\u001b[0m     hash_dict\u001b[39m=\u001b[39m{_filepath_fn(root): MD5},\n\u001b[1;32m    100\u001b[0m     hash_type\u001b[39m=\u001b[39m\u001b[39m\"\u001b[39m\u001b[39mmd5\u001b[39m\u001b[39m\"\u001b[39m,\n\u001b[1;32m    101\u001b[0m )\n\u001b[1;32m    102\u001b[0m cache_compressed_dp \u001b[39m=\u001b[39m HttpReader(cache_compressed_dp)\u001b[39m.\u001b[39mend_caching(mode\u001b[39m=\u001b[39m\u001b[39m\"\u001b[39m\u001b[39mwb\u001b[39m\u001b[39m\"\u001b[39m, same_filepath_fn\u001b[39m=\u001b[39m\u001b[39mTrue\u001b[39;00m)\n",
      "\u001b[0;31mNameError\u001b[0m: name 'IterableWrapper' is not defined"
     ]
    }
   ],
   "source": [
    "train_data_iter = IMDB(split='train')"
   ]
  },
  {
   "cell_type": "code",
   "execution_count": null,
   "metadata": {},
   "outputs": [],
   "source": []
  }
 ],
 "metadata": {
  "kernelspec": {
   "display_name": "LHY",
   "language": "python",
   "name": "python3"
  },
  "language_info": {
   "codemirror_mode": {
    "name": "ipython",
    "version": 3
   },
   "file_extension": ".py",
   "mimetype": "text/x-python",
   "name": "python",
   "nbconvert_exporter": "python",
   "pygments_lexer": "ipython3",
   "version": "3.9.15 (main, Nov 24 2022, 14:31:59) \n[GCC 11.2.0]"
  },
  "orig_nbformat": 4,
  "vscode": {
   "interpreter": {
    "hash": "0418effca45178467ac68c18e34d93809a092be692e0a4443d8690099b71f4bc"
   }
  }
 },
 "nbformat": 4,
 "nbformat_minor": 2
}
