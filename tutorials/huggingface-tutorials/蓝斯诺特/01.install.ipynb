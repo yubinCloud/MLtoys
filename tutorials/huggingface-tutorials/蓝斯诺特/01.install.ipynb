{
 "cells": [
  {
   "attachments": {},
   "cell_type": "markdown",
   "metadata": {},
   "source": [
    "# HuggingFace 的安装"
   ]
  },
  {
   "cell_type": "code",
   "execution_count": null,
   "metadata": {},
   "outputs": [],
   "source": [
    "#环境\n",
    "#python=3.6\n",
    "#pytorch=1.10"
   ]
  },
  {
   "attachments": {},
   "cell_type": "markdown",
   "metadata": {},
   "source": [
    "这里踩个坑，直接 pip install 一梭哈就行了，用 conda install 各种报错，贼坑"
   ]
  },
  {
   "cell_type": "code",
   "execution_count": null,
   "metadata": {},
   "outputs": [],
   "source": [
    "#安装transformers\n",
    "#pip安装\n",
    "#pip install transformers\n",
    "\n",
    "#conda安装\n",
    "#conda install -c huggingface transformers"
   ]
  },
  {
   "cell_type": "code",
   "execution_count": null,
   "metadata": {},
   "outputs": [],
   "source": [
    "#安装datasets\n",
    "#pip安装\n",
    "#pip install datasets\n",
    "\n",
    "#conda安装\n",
    "#conda install -c huggingface -c conda-forge datasets"
   ]
  }
 ],
 "metadata": {
  "kernelspec": {
   "display_name": "LHY",
   "language": "python",
   "name": "python3"
  },
  "language_info": {
   "name": "python",
   "version": "3.9.15 (main, Nov 24 2022, 14:31:59) \n[GCC 11.2.0]"
  },
  "orig_nbformat": 4,
  "vscode": {
   "interpreter": {
    "hash": "0418effca45178467ac68c18e34d93809a092be692e0a4443d8690099b71f4bc"
   }
  }
 },
 "nbformat": 4,
 "nbformat_minor": 2
}
